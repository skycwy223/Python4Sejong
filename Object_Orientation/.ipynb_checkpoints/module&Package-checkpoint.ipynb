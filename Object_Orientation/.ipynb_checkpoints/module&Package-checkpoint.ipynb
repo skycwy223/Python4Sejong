{
 "cells": [
  {
   "cell_type": "markdown",
   "metadata": {},
   "source": [
    "## 2. 모듈 (Module)"
   ]
  },
  {
   "cell_type": "markdown",
   "metadata": {},
   "source": [
    "모듈이란 함수나 변수 또는 클래스 들을 모아 놓은 파일이다. 모듈은 다른 파이썬 프로그램에서 불러와 사용할수 있게끔 만들어진 파이썬 파일이라고도 할 수 있다. 우리는 파이썬으로 프로그래밍을 할 때 굉장히 많은 모듈을 사용한다. 다른 사람들이 이미 만들어 놓은 모듈을 사용할 수도 있고 우리가 직접 만들어서 사용할 수도 있다. 여기서는 모듈을 어떻게 만들고 사용할 수 있는지 알아보겠다."
   ]
  },
  {
   "cell_type": "markdown",
   "metadata": {},
   "source": [
    "---\n",
    "a. [모듈 만들고 불러 보기](#define&Import)\n",
    "\n",
    "b. [if __name__ == \"__main__\": 의 의미](#main)\n",
    "\n",
    "c. [클래스나 변수 등을 포함한 모듈](#complicateModule)\n",
    "\n",
    "d. [새 파일 안에서 이전에 만든 모듈 불러오기](#importInModule)\n",
    "\n",
    "e. [연습문제](#exercises)\n",
    "\n",
    "---"
   ]
  },
  {
   "cell_type": "markdown",
   "metadata": {},
   "source": [
    "### <a name=\"define&Import\"></a>모듈 만들고 불러 보기"
   ]
  },
  {
   "cell_type": "markdown",
   "metadata": {},
   "source": [
    "모듈에 대해서 자세히 살펴보기 전에 간단한 모듈을 한번 만들어 보자."
   ]
  },
  {
   "cell_type": "markdown",
   "metadata": {},
   "source": [
    "```python\n",
    "# mod1.py\n",
    "def sum(a, b):\n",
    "    return a + b\n",
    "```"
   ]
  },
  {
   "cell_type": "markdown",
   "metadata": {},
   "source": [
    "위와 같이 sum 함수만 있는 파일 mod1.py를 만들고 현재(current) 디렉터리에 저장하자. 이 파일이 바로 모듈이다. \n",
    "\n",
    "우리가 만든 mod1.py라는 파일, 즉 모듈을 파이썬에서 불러와 사용하려면 어떻게 해야 할까? \n",
    "\n",
    "반드시 mod1.py를 현재 이 notebook이 저장된 디렉토리에 저장한 다음 이후 예제를 진행해야 한다. 그래야만 대화형 인터프리터에서 mod1.py를 읽을 수 있다. 이제 아래와 같이 따라 해보자."
   ]
  },
  {
   "cell_type": "code",
   "execution_count": null,
   "metadata": {},
   "outputs": [],
   "source": [
    "import mod1\n",
    "print(mod1.sum(3,4))"
   ]
  },
  {
   "cell_type": "markdown",
   "metadata": {},
   "source": [
    "mod1.py를 불러오기 위해 import mod1이라고 입력하였다. import mod1.py로 입력하는 실수를 하지 않도록 주의하자. import는 이미 만들어진 파이썬 모듈을 사용할 수 있게 해주는 명령어이다. mod1.py 파일에 있는 sum 함수를 이용하기 위해서는 위의 예에서와 같이 mod1.sum처럼 모듈이름 뒤에 '.'(도트 연산자)를 붙이고 함수 이름을 써서 사용할 수 있다.\n",
    "\n",
    "> import는 현재 디렉터리에 있는 파일이나 파이썬 라이브러리가 저장된 디렉터리에 있는 모듈만 불러올 수 있다.\n",
    "\n",
    "import의 사용 방법은 다음과 같다."
   ]
  },
  {
   "cell_type": "markdown",
   "metadata": {},
   "source": [
    "```python\n",
    "import 모듈이름\n",
    "```"
   ]
  },
  {
   "cell_type": "markdown",
   "metadata": {},
   "source": [
    "여기서 모듈이름은 mod1.py에서 .py라는 확장자를 제거한 mod1만을 가리킨다.\n",
    "\n",
    "이번에는 mod1.py 파일에 다음 함수를 추가하여 mod2.py 만들어 보자."
   ]
  },
  {
   "cell_type": "markdown",
   "metadata": {},
   "source": [
    "```python\n",
    "def safe_sum(a, b): \n",
    "    if type(a) != type(b): \n",
    "        print(\"더할수 있는 것이 아닙니다.\")\n",
    "        return \n",
    "    else: \n",
    "        result = sum(a, b) \n",
    "    return result\n",
    "```"
   ]
  },
  {
   "cell_type": "markdown",
   "metadata": {},
   "source": [
    "safe_sum 함수는 서로 다른 타입의 객체끼리 더하는 것을 미리 막아 준다. 만약 서로 다른 형태의 객체가 입력으로 들어오면 \"더할 수 있는 값이 아닙니다\"라는 메시지를 출력한다. 그리고 return문만 단독으로 사용되어 None 값을 돌려주고 함수를 종료한다.\n",
    "\n",
    "이 함수를 mod2.py에 추가한 다음 다시 대화형 인터프리터를 열고 다음과 같이 따라 해보자."
   ]
  },
  {
   "cell_type": "code",
   "execution_count": null,
   "metadata": {},
   "outputs": [],
   "source": [
    "import mod2\n",
    "print(mod2.safe_sum(3, 4))"
   ]
  },
  {
   "cell_type": "markdown",
   "metadata": {},
   "source": [
    "import mod2으로 mod2.py 파일을 불러온 다음 mod2.safe_sum(3, 4)로 safe_sum 함수를 호출한다. 이렇게 하면 같은 타입의 객체가 입력으로 들어와서 3+4의 결과인 7이 출력된다.\n",
    "\n",
    "이번에는 다음처럼 따라 해보자."
   ]
  },
  {
   "cell_type": "code",
   "execution_count": null,
   "metadata": {},
   "outputs": [],
   "source": [
    "print(mod2.safe_sum(1, 'a'))"
   ]
  },
  {
   "cell_type": "markdown",
   "metadata": {},
   "source": [
    "위 예제에서 1은 정수형 객체, a는 문자열 객체이다. 이렇게 서로 타입이 다른 객체가 입력으로 들어오면 \"더할 수 있는 값이 아닙니다.\"라는 메시지를 출력하고 단독으로 사용된 return에 의해서 None 값을 돌려주게 된다.\n",
    "\n",
    "mod2의 sum 함수 역시 다음처럼 바로 호출할 수도 있다."
   ]
  },
  {
   "cell_type": "code",
   "execution_count": null,
   "metadata": {},
   "outputs": [],
   "source": [
    "print(mod1.sum(10, 20))"
   ]
  },
  {
   "cell_type": "markdown",
   "metadata": {},
   "source": [
    "\\[**모듈 함수를 사용하는 또 다른 방법**\\]\n",
    "\n",
    "때로는 mod2.sum, mod2.safe_sum처럼 쓰지 않고 그냥 sum, safe_sum처럼 함수를 쓰고 싶은 경우도 있을 것이다. 이럴 때는 \"from 모듈이름 import 모듈함수\"를 사용하면 된다."
   ]
  },
  {
   "cell_type": "markdown",
   "metadata": {},
   "source": [
    "```python\n",
    "from 모듈이름 import 모듈함수\n",
    "```"
   ]
  },
  {
   "cell_type": "markdown",
   "metadata": {},
   "source": [
    "from ~ import ~를 이용하면 위와 같이 모듈이름을 붙이지 않고 바로 해당 모듈의 함수를 쓸 수 있다. 다음과 같이 따라 해보자."
   ]
  },
  {
   "cell_type": "code",
   "execution_count": null,
   "metadata": {},
   "outputs": [],
   "source": [
    "from mod2 import sum\n",
    "sum(3, 4)"
   ]
  },
  {
   "cell_type": "markdown",
   "metadata": {},
   "source": [
    "그런데 위와 같이 하면 mod2.py 파일의 sum 함수만 사용할 수 있다. sum 함수와 safe_sum 함수를 둘 다 사용하고 싶다면 어떻게 해야 할까?\n",
    "\n",
    "2가지 방법이 있다."
   ]
  },
  {
   "cell_type": "markdown",
   "metadata": {},
   "source": [
    "```python\n",
    "from mod1 import sum, safe_sum\n",
    "```"
   ]
  },
  {
   "cell_type": "markdown",
   "metadata": {},
   "source": [
    "첫 번째 방법은 위와 같이 from 모듈이름 import 모듈함수1, 모듈함수2 처럼 사용하는 방법이다. 콤마로 구분하여 필요한 함수를 불러올 수 있다."
   ]
  },
  {
   "cell_type": "markdown",
   "metadata": {},
   "source": [
    "```python\n",
    "from mod1 import *\n",
    "```"
   ]
  },
  {
   "cell_type": "markdown",
   "metadata": {},
   "source": [
    "두 번째 방법은 위와 같이 \\* 문자를 사용하는 방법이다. 정규 표현식에서 \\* 문자는 \"모든것\"이라는 뜻인데 파이썬에서도 마찬가지 의미로 사용된다. 따라서 \"from mod1 import \\*\" 는 mod1.py의 모든 함수를 불러서 사용하겠다는 말이다.\n",
    "\n",
    "mod2.py 파일에는 함수가 2개밖에 없기 때문에 위의 2가지 방법은 동일하게 적용된다."
   ]
  },
  {
   "cell_type": "markdown",
   "metadata": {},
   "source": [
    "### <a name=\"define&Import\"></a>if __name__ == \"__main__\": 의 의미"
   ]
  },
  {
   "cell_type": "markdown",
   "metadata": {},
   "source": [
    "이번에는 mod2.py 파일에 다음과 같이 추가하여 mod3.py 파일을 만들어 보자."
   ]
  },
  {
   "cell_type": "markdown",
   "metadata": {},
   "source": [
    "```python\n",
    "# mod3.py \n",
    "def sum(a, b): \n",
    "    return a+b\n",
    "\n",
    "def safe_sum(a, b): \n",
    "    if type(a) != type(b): \n",
    "        print(\"더할수 있는 것이 아닙니다.\")\n",
    "        return \n",
    "    else: \n",
    "        result = sum(a, b) \n",
    "    return result \n",
    "\n",
    "print(safe_sum('a', 1))\n",
    "print(safe_sum(1, 4))\n",
    "print(sum(10, 10.4))\n",
    "```"
   ]
  },
  {
   "cell_type": "markdown",
   "metadata": {},
   "source": [
    "위와 같은 mod3.py 파일을 에디터로 작성해서 현재 디렉터리에 저장했다면 다음처럼 실행할 수 있다."
   ]
  },
  {
   "cell_type": "markdown",
   "metadata": {},
   "source": [
    "```python\n",
    "> python mod3.py\n",
    "더할 수 있는 것이 아닙니다.\n",
    "None\n",
    "5\n",
    "20.4\n",
    "```"
   ]
  },
  {
   "cell_type": "markdown",
   "metadata": {},
   "source": [
    "결과값은 위의 예처럼 출력될 것이다. 그런데 이 mod3.py 파일의 sum과 safe_sum 함수를 사용하기 위해 mod3.py 파일을 import하면 문제가 생긴다."
   ]
  },
  {
   "cell_type": "code",
   "execution_count": null,
   "metadata": {},
   "outputs": [],
   "source": [
    "import mod3"
   ]
  },
  {
   "cell_type": "markdown",
   "metadata": {},
   "source": [
    "엉뚱하게도 import mod3을 수행하는 순간 mod3.py가 실행이 되어 결과값을 출력한다. 우리는 단지 mod3.py 파일의 sum과 safe_sum 함수만 사용하려고 했는데 말이다. 이러한 문제를 방지하려면 다음처럼 하면 된다."
   ]
  },
  {
   "cell_type": "markdown",
   "metadata": {},
   "source": [
    "```python\n",
    "if __name__ == \"__main__\":\n",
    "    print(safe_sum('a', 1))\n",
    "    print(safe_sum(1, 4))\n",
    "    print(sum(10, 10.4))\n",
    "```"
   ]
  },
  {
   "cell_type": "markdown",
   "metadata": {},
   "source": [
    "if \\_\\_name\\_\\_ == \"\\_\\_main\\_\\_\"을 사용하면 \">python mod3.py\"처럼 직접 이 파일을 실행시켰을 때는 \\_\\_name\\_\\_ == \"\\_\\_main\\_\\_\"이 참이 되어 if문 다음 문장들이 수행된다. 반대로 대화형 인터프리터나 다른 파일에서 이 모듈을 불러서 사용할 때는 \\_\\_name__ == \"\\_\\_main\\_\\_\"이 거짓이 되어 if문 다음 문장들이 수행되지 않는다.\n",
    "\n",
    "파이썬 모듈을 만든 다음 그 모듈을 테스트하기 위해 보통 위와 같은 방법을 사용하는데, 실제로 그런지 대화형 인터프리터를 열고 실행해 보자."
   ]
  },
  {
   "cell_type": "code",
   "execution_count": null,
   "metadata": {},
   "outputs": [],
   "source": [
    "import mod4"
   ]
  },
  {
   "cell_type": "markdown",
   "metadata": {},
   "source": [
    "mod3.py 파일의 마지막 부분을 위와 같이 고치고 mod4.py 파일에 저장한 다음 실행하면 아무런 결과값도 출력되지 않는 것을 볼 수 있다."
   ]
  },
  {
   "cell_type": "markdown",
   "metadata": {},
   "source": [
    ">\\[**알아두기**\\]\n",
    "\n",
    ">파이썬의 \\_\\_name\\_\\_ 변수는 파이썬이 내부적으로 사용하는 특별한 변수명이다. 만약 \">python mod4.py\"처럼 직접 mod4.py 파일을 실행시킬 경우 mod4.py의 \\_\\_name\\_\\_ 변수에는 \\_\\_main\\_\\_ 이라는 값이 저장된다. 하지만 파이썬 쉘이나 다른 파이썬 모듈에서 mod4을 import 할 경우에는 mod4.py의 \\_\\_name\\_\\_ 변수에는 \"mod4\"이라는 mod4.py의 모듈이름 값이 저장된다."
   ]
  },
  {
   "cell_type": "markdown",
   "metadata": {},
   "source": [
    "### <a name=\"define&Import\"></a>클래스나 변수 등을 포함한 모듈"
   ]
  },
  {
   "cell_type": "markdown",
   "metadata": {},
   "source": [
    "지금까지 살펴본 모듈은 함수만 포함했지만 클래스나 변수 등을 포함할 수도 있다. 다음의 프로그램을 작성해 보자."
   ]
  },
  {
   "cell_type": "markdown",
   "metadata": {},
   "source": [
    "```python\n",
    "# mod5.py \n",
    "PI = 3.141592\n",
    "\n",
    "class Math: \n",
    "    def solv(self, r): \n",
    "        return PI * (r ** 2) \n",
    "\n",
    "def sum(a, b): \n",
    "    return a+b \n",
    "\n",
    "if __name__ == \"__main__\": \n",
    "    print(PI)\n",
    "    a = Math() \n",
    "    print(a.solv(2)) \n",
    "    print(sum(PI , 4.4))\n",
    "```"
   ]
  },
  {
   "cell_type": "markdown",
   "metadata": {},
   "source": [
    "이 파일은 원의 넓이를 계산하는 Math 클래스와 두 값을 더하는 sum 함수 그리고 원주율 값에 해당되는 PI 변수처럼 클래스, 함수, 변수 등을 모두 포함하고 있다. 파일 이름을 mod5.py로 하고 현재 디렉터리에 저장하자. mod5.py 파일은 다음과 같이 실행할 수 있다."
   ]
  },
  {
   "cell_type": "markdown",
   "metadata": {},
   "source": [
    "```python\n",
    ">python mod5.py\n",
    "3.141592\n",
    "12.566368\n",
    "7.541592\n",
    "```"
   ]
  },
  {
   "cell_type": "markdown",
   "metadata": {},
   "source": [
    "이번에는 대화형 인터프리터를 열고 다음과 같이 따라 해보자."
   ]
  },
  {
   "cell_type": "code",
   "execution_count": null,
   "metadata": {},
   "outputs": [],
   "source": [
    "import mod5"
   ]
  },
  {
   "cell_type": "markdown",
   "metadata": {},
   "source": [
    "\\_\\_name\\_\\_ == \"\\_\\_main\\_\\_\"이 거짓이 되므로 아무런 값도 출력되지 않는다."
   ]
  },
  {
   "cell_type": "markdown",
   "metadata": {},
   "source": [
    "#### 모듈에 포함된 변수, 클래스, 함수 사용하기"
   ]
  },
  {
   "cell_type": "code",
   "execution_count": null,
   "metadata": {},
   "outputs": [],
   "source": [
    "print(mod5.PI)"
   ]
  },
  {
   "cell_type": "markdown",
   "metadata": {},
   "source": [
    "위의 예에서 볼 수 있듯이 mod5.PI처럼 입력해서 mod5.py 파일에 있는 PI라는 변수값을 사용할 수 있다."
   ]
  },
  {
   "cell_type": "code",
   "execution_count": null,
   "metadata": {},
   "outputs": [],
   "source": [
    "a = mod5.Math()\n",
    "print(a.solv(2))"
   ]
  },
  {
   "cell_type": "markdown",
   "metadata": {},
   "source": [
    "위의 예는 mod5.py에 있는 Math 클래스를 사용하는 방법을 보여 준다. 위의 예처럼 모듈 내에 있는 클래스를 이용하려면 '.'(도트 연산자)를 이용하여 클래스 이름 앞에 모듈 이름을 먼저 입력해야 한다."
   ]
  },
  {
   "cell_type": "code",
   "execution_count": null,
   "metadata": {},
   "outputs": [],
   "source": [
    "print(mod5.sum(mod5.PI, 4.4))"
   ]
  },
  {
   "cell_type": "markdown",
   "metadata": {},
   "source": [
    "mod5.py에 있는 sum 함수 역시 당연히 사용할 수 있다."
   ]
  },
  {
   "cell_type": "markdown",
   "metadata": {},
   "source": [
    "### <a name=\"define&Import\"></a>새 파일 안에서 이전에 만든 모듈 불러오기"
   ]
  },
  {
   "cell_type": "markdown",
   "metadata": {},
   "source": [
    "지금까지는 만들어 놓은 모듈 파일을 사용하기 위해 대화형 인터프리터만을 이용했다. 이번에는 새롭게 만들 파이썬 파일 안에 이전에 만들어 놓았던 모듈을 불러와서 사용하는 방법에 대해 알아보자.\n",
    "\n",
    "방금 전에 만든 모듈인 mod5.py 파일을 새롭게 만들 파이썬 프로그램 파일에서 불러와 사용해 보자. 그럼 에디터로 다음과 같이 작성해 보자."
   ]
  },
  {
   "cell_type": "markdown",
   "metadata": {},
   "source": [
    "```python\n",
    "# modtest.py\n",
    "import mod5\n",
    "result = mod5.sum(3, 4)\n",
    "print(result)\n",
    "```"
   ]
  },
  {
   "cell_type": "markdown",
   "metadata": {},
   "source": [
    "위에서 볼 수 있듯이 파일에서도 import mod5로 mod5 모듈을 불러와서 사용하면 된다. 대화형 인터프리터에서 한 것과 마찬가지 방법이다. 위의 예제가 정상적으로 실행되기 위해서는 modtest.py 파일과 mod5.py 파일이 동일한 디렉터리에 있어야 한다."
   ]
  },
  {
   "cell_type": "markdown",
   "metadata": {},
   "source": [
    "\\[**모듈을 불러오는 또 다른 방법**\\]\n",
    "\n",
    "우리는 지금까지 명령 프롬프트 창을 열고 모듈이 있는 디렉터리로 이동한 다음에나 모듈을 사용할 수 있었다. 이번에는 모듈을 저장한 디렉터리로 이동하지 않고 모듈을 불러와서 사용하는 방법에 대해서 알아보자.\n",
    "\n",
    "우선 이전에 만든 mod6.py 모듈을 ..\\Mymod라는 디렉터리를 새로 생성해서 저장한 후 다음의 예를 따라 해보자."
   ]
  },
  {
   "cell_type": "markdown",
   "metadata": {},
   "source": [
    "**1. sys.path.append(모듈을 저장한 디렉터리) 사용하기**"
   ]
  },
  {
   "cell_type": "markdown",
   "metadata": {},
   "source": [
    "먼저 sys 모듈을 불러온다."
   ]
  },
  {
   "cell_type": "code",
   "execution_count": null,
   "metadata": {},
   "outputs": [],
   "source": [
    "import sys"
   ]
  },
  {
   "cell_type": "markdown",
   "metadata": {},
   "source": [
    "sys 모듈은 파이썬을 설치할 때 함께 설치되는 라이브러리 모듈이다. sys에 대해서는 뒤에서 다시 다룰 것이다. 이 sys 모듈을 이용해서 파이썬 라이브러리가 설치되어 있는 디렉터리를 확인할 수 있다.\n",
    "\n",
    "다음과 같이 작성해 보자."
   ]
  },
  {
   "cell_type": "code",
   "execution_count": null,
   "metadata": {},
   "outputs": [],
   "source": [
    "sys.path"
   ]
  },
  {
   "cell_type": "markdown",
   "metadata": {},
   "source": [
    "sys.path는 파이썬 라이브러리들이 설치되어 있는 디렉터리들을 보여 준다. 만약 파이썬 모듈이 위의 디렉터리에 들어 있다면 모듈이 저장된 디렉터리로 이동할 필요없이 바로 불러서 사용할 수가 있다. 그렇다면 sys.path에 \"..\\mymod\"라는 디렉터리를 추가하면 아무데서나 불러 사용할 수 있지 않을까?\n",
    "\n",
    ">명령 프롬프트 창에서는 /, \\\\든 상관없지만, 소스코드 안에서는 반드시 / 또는 \\\\\\\\ 기호를 사용해야 한다.)\n",
    "\n",
    "당연하다. sys.path의 결과값이 리스트이므로 우리는 다음과 같이 할 수 있을 것이다."
   ]
  },
  {
   "cell_type": "code",
   "execution_count": null,
   "metadata": {},
   "outputs": [],
   "source": [
    "sys.path.append(\"/home/jovyan/work/Python4Sejong/Object_Orientation/Mymod\")\n",
    "sys.path"
   ]
  },
  {
   "cell_type": "markdown",
   "metadata": {},
   "source": [
    "sys.path.append를 이용해서 ../Mymod라는 디렉터리를 sys.path에 추가한 후 다시 sys.path를 보면 가장 마지막 요소에 ../Mymod라고 추가된 것을 확인할 수 있다.\n",
    "\n",
    "자, 실제로 모듈을 불러와서 사용할 수 있는지 확인해 보자."
   ]
  },
  {
   "cell_type": "code",
   "execution_count": null,
   "metadata": {},
   "outputs": [],
   "source": [
    "import mod6\n",
    "print(mod6.sum(3,4))"
   ]
  },
  {
   "cell_type": "markdown",
   "metadata": {},
   "source": [
    "이상 없이 불러와서 사용할 수 있다. 이렇게 특정한 디렉터리에 있는 모듈을 불러와서 사용하고 싶을 때 사용할 수 있는 것이 바로 sys.path.append(모듈을 저장한 디렉터리)이다."
   ]
  },
  {
   "cell_type": "markdown",
   "metadata": {},
   "source": [
    "**2. PYTHONPATH 환경 변수 사용하기**\n",
    "\n",
    "모듈을 불러와서 사용하는 또 다른 방법으로는 PYTHONPATH 환경 변수를 사용하는 방법이 있다.\n",
    "\n",
    "다음과 같이 따라 해보자."
   ]
  },
  {
   "cell_type": "markdown",
   "metadata": {},
   "source": [
    "```python\n",
    ">set PYTHONPATH=/home/jovyan/work/Python4Sejong/Object_Orientation/Mymod #not work on my Mac?\n",
    ">python\n",
    "Python 3.6.5 (v3.6.5:f59c0932b4, Mar 28 2018, 03:03:55) \n",
    "Type \"help\", \"copyright\", \"credits\" or \"license\" for more information.\n",
    ">>> import mod6\n",
    ">>> print(mod6.sum(3,4))\n",
    "7\n",
    "```"
   ]
  },
  {
   "cell_type": "code",
   "execution_count": null,
   "metadata": {},
   "outputs": [],
   "source": [
    "import mod6\n",
    "print(mod6.sum(3,4))"
   ]
  },
  {
   "cell_type": "markdown",
   "metadata": {},
   "source": [
    "set 명령어를 이용해 PYTHONPATH 환경 변수에 mod6.py 파일이 있는 디렉터리를 설정한다. 그러면 디렉터리 이동이나 별도의 모듈 추가 작업 없이 mod6 모듈을 불러와서 사용할 수 있다. (?)"
   ]
  },
  {
   "cell_type": "markdown",
   "metadata": {},
   "source": [
    "### <a name=\"exercise\"></a>연습문제"
   ]
  },
  {
   "cell_type": "markdown",
   "metadata": {},
   "source": [
    "**\\[문제1\\] 모듈 사용하기 1**\n",
    "\n",
    "\"../Mymod\" 이라는 디렉토리에 mymod.py 라는 파이썬 모듈이 있다고 가정하고 파이썬 shell에서 이 모듈을 import 해서 사용할 수 있는 방법에 대해서 모두 기술하시오.\n",
    "\n",
    "즉, 다음과 같이 import mymod 수행 시 오류가 없어야 한다."
   ]
  },
  {
   "cell_type": "markdown",
   "metadata": {},
   "source": [
    "```python\n",
    "import mymod\n",
    "```"
   ]
  },
  {
   "cell_type": "markdown",
   "metadata": {},
   "source": [
    "**\\[문제2\\] 모듈 작성**\n",
    "\n",
    "다음이 가능하도록 모듈 mymod.py 를 작성하시오. (mymod.py는 \"../Mymod\" 에 저장할것)"
   ]
  },
  {
   "cell_type": "markdown",
   "metadata": {},
   "source": [
    "```python\n",
    "import sys\n",
    "sys.append(\"/home/jovyan/work/Python4Sejong/Object_Orientation/Mymod\")\n",
    "from mymod import mysum\n",
    "mysum(1, 2)\n",
    "3\n",
    "```"
   ]
  },
  {
   "cell_type": "markdown",
   "metadata": {},
   "source": [
    "**\\[문제3\\] 모듈 사용하기 2**\n",
    "\n",
    "다음은 /home/jovyan/work/Python4Sejong/Object_Orientation/Mymod/mymod.py 라는 모듈의 내용이다."
   ]
  },
  {
   "cell_type": "markdown",
   "metadata": {},
   "source": [
    "```python\n",
    "def mysum(a, b):\n",
    "    return a+b\n",
    "\n",
    "# test\n",
    "print(mysum(3, 7))  # 10을 출력\n",
    "```"
   ]
  },
  {
   "cell_type": "markdown",
   "metadata": {},
   "source": [
    "이 모듈을 다음과 같이 파이썬 shell에서 import 하여 사용하였다."
   ]
  },
  {
   "cell_type": "markdown",
   "metadata": {},
   "source": [
    "```python\n",
    "import sys\n",
    "sys.append(\"/home/jovyan/work/Python4Sejong/Object_Orientation/Mymod\")\n",
    "import mymod\n",
    "```"
   ]
  },
  {
   "cell_type": "markdown",
   "metadata": {},
   "source": [
    "import mymod 라고 입력하자마자 10이라는 숫자가 출력되었다. 그 이유는 무엇일까? 그리고 이렇게 10이라는 숫자가 출력되지 않도록 하기 위해서는 어떻게 해야 할까?"
   ]
  },
  {
   "cell_type": "markdown",
   "metadata": {},
   "source": [
    "[연습문제 풀이](https://wikidocs.net/17090#05-2)"
   ]
  },
  {
   "cell_type": "markdown",
   "metadata": {},
   "source": [
    "## 3. 패키지 (Package)"
   ]
  },
  {
   "cell_type": "markdown",
   "metadata": {},
   "source": [
    "---\n",
    "a. [패키지란 무엇인가?](#definition)\n",
    "\n",
    "b. [패키지 만들기](#make)\n",
    "\n",
    "c. [\\_\\_init\\_\\_.py 의 용도](#init)\n",
    "\n",
    "d. [\\_\\_all\\_\\_의 용도](#all)\n",
    "\n",
    "e. [relative 패키지](#relative)\n",
    "\n",
    "f. [연습문제](#exercise2)\n",
    "\n",
    "---"
   ]
  },
  {
   "cell_type": "markdown",
   "metadata": {},
   "source": [
    "### <a name=\"definition\"></a>패키지란 무엇인가?"
   ]
  },
  {
   "cell_type": "markdown",
   "metadata": {},
   "source": [
    "패키지(Packages)는 도트(.)를 이용하여 파이썬 모듈을 계층적(디렉터리 구조)으로 관리할 수 있게 해준다. 예를 들어 모듈명이 A.B인 경우 A는 패키지명이 되고 B는 A 패키지의 B 모듈이 된다.\n",
    "\n",
    "파이썬 패키지는 디렉터리와 파이썬 모듈로 이루어지며 구조는 다음과 같다.\n",
    "\n",
    "가상의 game 패키지 예"
   ]
  },
  {
   "cell_type": "markdown",
   "metadata": {},
   "source": [
    "```python\n",
    "game/\n",
    "    __init__.py\n",
    "    sound/\n",
    "        __init__.py\n",
    "        echo.py\n",
    "        wav.py\n",
    "    graphic/\n",
    "        __init__.py\n",
    "        screen.py\n",
    "        render.py\n",
    "    play/\n",
    "        __init__.py\n",
    "        run.py\n",
    "        test.py\n",
    "```"
   ]
  },
  {
   "cell_type": "markdown",
   "metadata": {},
   "source": [
    "game, sound, graphic, play는 디렉터리명이고 .py 확장자를 가지는 파일은 파이썬 모듈이다. game 디렉터리가 이 패키지의 루트 디렉터리이고 sound, graphic, play는 서브 디렉터리이다.\n",
    "\n",
    "> \\_\\_init\\_\\_.py 파일은 조금 특이한 용도로 사용되는데, 이것에 대해서는 뒤에서 자세하게 다룰 것이다.\n",
    "\n",
    "간단한 파이썬 프로그램이 아니라면 이렇게 패키지 구조로 파이썬 프로그램을 만드는 것이 공동 작업이나 유지 보수 등 여러 면에서 유리하다. 또한 패키지 구조로 모듈을 만들면 다른 모듈과 이름이 겹치더라도 더 안전하게 사용할 수 있다."
   ]
  },
  {
   "cell_type": "markdown",
   "metadata": {},
   "source": [
    "### <a name=\"make\"></a>패키지 만들기"
   ]
  },
  {
   "cell_type": "markdown",
   "metadata": {},
   "source": [
    "이제 위의 예와 비슷한 game 패키지를 직접 만들어 보며 패키지에 대해서 알아보자."
   ]
  },
  {
   "cell_type": "markdown",
   "metadata": {},
   "source": [
    "#### 패키지 기본 구성 요소 준비하기"
   ]
  },
  {
   "cell_type": "markdown",
   "metadata": {},
   "source": [
    "1.\"~/work/Python4Sejong/Object_Orientation/\"이라는 디렉터리 밑에 game 및 기타 서브 디렉터리들을 생성하고 .py 파일들을 다음과 같이 만들어 보자(만약 \"~/work/Python4Sejong/Object_Orientation/\"이라는 디렉터리가 없다면 먼저 생성하고 진행하자)."
   ]
  },
  {
   "cell_type": "markdown",
   "metadata": {},
   "source": [
    "```python\n",
    "~/work/Python4Sejong/Object_Orientation/gamee/__init__.py\n",
    "~/work/Python4Sejong/Object_Orientation/game/sound/__init__init__init__.py\n",
    "~/work/Python4Sejong/Object_Orientation/game/sound/echo.py\n",
    "~/work/Python4Sejong/Object_Orientation/game/graphic/__init__.py\n",
    "~/work/Python4Sejong/Object_Orientation/game/graphic/render.py\n",
    "```"
   ]
  },
  {
   "cell_type": "markdown",
   "metadata": {},
   "source": [
    "2.각 디렉터리에 \\_\\_init\\_\\_.py 파일을 만들어 놓기만 하고 내용은 일단 비워 둔다."
   ]
  },
  {
   "cell_type": "markdown",
   "metadata": {},
   "source": [
    "3.echo.py 파일은 다음과 같이 만든다."
   ]
  },
  {
   "cell_type": "markdown",
   "metadata": {},
   "source": [
    "```python\n",
    "# echo.py\n",
    "def echo_test():\n",
    "    print (\"echo\")\n",
    "```"
   ]
  },
  {
   "cell_type": "markdown",
   "metadata": {},
   "source": [
    "4.render.py 파일은 다음과 같이 만든다."
   ]
  },
  {
   "cell_type": "markdown",
   "metadata": {},
   "source": [
    "```python\n",
    "# render.py\n",
    "def render_test():\n",
    "    print (\"render\")\n",
    "```"
   ]
  },
  {
   "cell_type": "markdown",
   "metadata": {},
   "source": [
    "5.다음 예제들을 수행하기 전에 우리가 만든 game 패키지를 참조할 수 있도록 다음과 같이 sys.path에 ~/work/Python4Sejong/Object_Orientation/ 디렉터리를 추가한다. 그리고 다음을 실행하자."
   ]
  },
  {
   "cell_type": "code",
   "execution_count": null,
   "metadata": {},
   "outputs": [],
   "source": [
    "import sys\n",
    "sys.path.append(\"/home/jovyan/work/Python4Sejong/Object_Orientation\")\n",
    "sys.path"
   ]
  },
  {
   "cell_type": "markdown",
   "metadata": {},
   "source": [
    "여기까지 준비가 되었다면 다음을 따라 해보자."
   ]
  },
  {
   "cell_type": "markdown",
   "metadata": {},
   "source": [
    "#### 패키지 안의 함수 실행하기"
   ]
  },
  {
   "cell_type": "markdown",
   "metadata": {},
   "source": [
    "자, 이제 패키지를 이용하여 echo.py 파일의 echo_test 함수를 실행해 보자. 패키지 안의 함수를 실행하는 방법은 다음과 같이 3가지가 있다.\n",
    "\n",
    "> 아래 예제들은 import 예제들이므로 하나의 예제를 실행하고 나서 다음 예제를 실행할 때에는 반드시 인터프리터를 종료하고 다시 실행해야 한다. 인터프리터를 다시 시작하지 않을 경우 이전에 import했던 것들이 메모리에 남아 있게 되어 엉뚱한 결과가 나올 수 있다.\n",
    "\n",
    "첫 번째는 echo 모듈을 import하여 실행하는 방법으로, 다음과 같이 실행한다."
   ]
  },
  {
   "cell_type": "code",
   "execution_count": null,
   "metadata": {},
   "outputs": [],
   "source": [
    "import game.sound.echo\n",
    "\n",
    "game.sound.echo.echo_test()"
   ]
  },
  {
   "cell_type": "markdown",
   "metadata": {},
   "source": [
    "두 번째는 echo 모듈이 있는 디렉터리까지를 from ... import하여 실행하는 방법이다."
   ]
  },
  {
   "cell_type": "code",
   "execution_count": null,
   "metadata": {},
   "outputs": [],
   "source": [
    "from game.sound import echo\n",
    "\n",
    "echo.echo_test()"
   ]
  },
  {
   "cell_type": "markdown",
   "metadata": {},
   "source": [
    "세 번째는 echo 모듈의 echo_test 함수를 직접 import하여 실행하는 방법이다."
   ]
  },
  {
   "cell_type": "code",
   "execution_count": null,
   "metadata": {},
   "outputs": [],
   "source": [
    "from game.sound.echo import echo_test\n",
    "\n",
    "echo_test()"
   ]
  },
  {
   "cell_type": "markdown",
   "metadata": {},
   "source": [
    "하지만 다음과 같이 echo_test 함수를 사용하는 것은 불가능하다."
   ]
  },
  {
   "cell_type": "code",
   "execution_count": null,
   "metadata": {},
   "outputs": [],
   "source": [
    "import game\n",
    "\n",
    "game.sound.echo.echo_test()"
   ]
  },
  {
   "cell_type": "markdown",
   "metadata": {},
   "source": [
    "import game을 수행하면 game 디렉터리의 모듈 또는 game 디렉터리의 \\_\\_init\\_\\_.py에 정의된 것들만 참조할 수 있다.\n",
    "\n",
    "또 다음처럼 echo_test 함수를 사용하는 것도 불가능하다."
   ]
  },
  {
   "cell_type": "code",
   "execution_count": null,
   "metadata": {},
   "outputs": [],
   "source": [
    "import game.sound.echo.echo_test"
   ]
  },
  {
   "cell_type": "markdown",
   "metadata": {},
   "source": [
    "도트 연산자(.)를 사용해서 import a.b.c처럼 import할 때 가장 마지막 항목인 c는 반드시 모듈 또는 패키지여야만 한다."
   ]
  },
  {
   "cell_type": "markdown",
   "metadata": {},
   "source": [
    "### <a name=\"init\"></a>\\_\\_init\\_\\_.py 의 용도"
   ]
  },
  {
   "cell_type": "markdown",
   "metadata": {},
   "source": [
    "\\_\\_init\\_\\_.py 파일은 해당 디렉터리가 패키지의 일부임을 알려주는 역할을 한다. 만약 game, sound, graphic등 패키지에 포함된 디렉터리에 \\_\\_init\\_\\_.py 파일이 없다면 패키지로 인식되지 않는다.\n",
    "\n",
    "> python3.3 버전부터는 \\_\\_init\\_\\_.py 파일 없이도 패키지로 인식이 된다(PEP 420). 하지만 하위 버전 호환을 위해 \\_\\_init\\_\\_.py 파일을 생성하는 것이 안전한 방법이다.\n",
    "\n",
    "시험 삼아 sound 디렉터리의 \\_\\_init\\_\\_.py를 제거하고 다음을 수행해 보자."
   ]
  },
  {
   "cell_type": "code",
   "execution_count": null,
   "metadata": {},
   "outputs": [],
   "source": [
    "import game.sound.echo"
   ]
  },
  {
   "cell_type": "markdown",
   "metadata": {},
   "source": [
    "sound 디렉터리에 \\_\\_init\\_\\_.py 파일이 없어서 임포트 오류(ImportError)가 발생하지 않는다."
   ]
  },
  {
   "cell_type": "markdown",
   "metadata": {},
   "source": [
    "### <a name=\"all\"></a>\\_\\_all\\_\\_의 용도"
   ]
  },
  {
   "cell_type": "markdown",
   "metadata": {},
   "source": [
    "다음을 따라 해보자."
   ]
  },
  {
   "cell_type": "code",
   "execution_count": null,
   "metadata": {},
   "outputs": [],
   "source": [
    "from game.sound import *\n",
    "\n",
    "echo.echo_test()"
   ]
  },
  {
   "cell_type": "markdown",
   "metadata": {},
   "source": [
    "그런데 뭔가 이상하지 않은가? 분명 game.sound 패키지에서 모든 것(\\*)을 import하였으므로 echo 모듈을 사용할 수 있어야 할 것 같은데 echo라는 이름이 정의되지 않았다는 이름 오류(NameError)가 발생했다.\n",
    "\n",
    "이렇게 특정 디렉터리의 모듈을 \\*를 이용하여 import할 때에는 다음과 같이 해당 디렉터리의 \\_\\_init\\_\\_.py 파일에 \\_\\_all\\_\\_이라는 변수를 설정하고 import할 수 있는 모듈을 정의해 주어야 한다."
   ]
  },
  {
   "cell_type": "markdown",
   "metadata": {},
   "source": [
    "```python\n",
    "# /game/sound/__init__.py\n",
    "__all__ = ['echo']\n",
    "```"
   ]
  },
  {
   "cell_type": "markdown",
   "metadata": {},
   "source": [
    "여기서 \\_\\_all\\_\\_이 의미하는 것은 sound 디렉터리에서 \\* 기호를 이용하여 import할 경우 이곳에 정의된 echo 모듈만 import된다는 의미이다.\n",
    "\n",
    "> 착각하기 쉬운데 from game.sound.echo import \\* 는 \\_\\_all\\_\\_과 상관없이 무조건 import된다. 이렇게 \\_\\_all\\_\\_과 상관없이 무조건 import되는 경우는 from a.b.c import * 에서 from의 마지막 항목인 c가 모듈인 경우이다.\n",
    "\n",
    "위와 같이 \\_\\_init\\_\\_.py 파일을 변경한 후 위 예제를 수행하면 원하던 결과가 출력되는 것을 확인할 수 있다."
   ]
  },
  {
   "cell_type": "code",
   "execution_count": null,
   "metadata": {},
   "outputs": [],
   "source": [
    "from game.sound import *\n",
    "\n",
    "echo.echo_test()"
   ]
  },
  {
   "cell_type": "markdown",
   "metadata": {},
   "source": [
    "### <a name=\"relative\"></a>relative 패키지"
   ]
  },
  {
   "cell_type": "markdown",
   "metadata": {},
   "source": [
    "만약 graphic 디렉터리의 render.py 모듈이 sound 디렉터리의 echo.py 모듈을 사용하고 싶다면 어떻게 해야 할까? 다음과 같이 render.py를 수정하면 가능하다."
   ]
  },
  {
   "cell_type": "markdown",
   "metadata": {},
   "source": [
    "```python\n",
    "# render1.py\n",
    "from game.sound.echo import echo_test\n",
    "def render_test():\n",
    "    print (\"render\")\n",
    "    echo_test()\n",
    "```"
   ]
  },
  {
   "cell_type": "markdown",
   "metadata": {},
   "source": [
    "from game.sound.echo import echo_test라는 문장을 추가하여 echo_test() 함수를 사용할 수 있도록 수정했다.\n",
    "\n",
    "이렇게 수정한 후 다음과 같이 수행해 보자."
   ]
  },
  {
   "cell_type": "code",
   "execution_count": null,
   "metadata": {},
   "outputs": [],
   "source": [
    "from game.graphic.render1 import render_test\n",
    "\n",
    "render_test()"
   ]
  },
  {
   "cell_type": "markdown",
   "metadata": {},
   "source": [
    "from game.sound.echo import echo_test라는 문장을 추가하여 echo_test() 함수를 사용할 수 있도록 수정했다.\n",
    "\n",
    "이렇게 수정한 후 다음과 같이 수행해 보자."
   ]
  },
  {
   "cell_type": "code",
   "execution_count": null,
   "metadata": {},
   "outputs": [],
   "source": [
    "from game.graphic.render1 import render_test\n",
    "\n",
    "render_test()"
   ]
  },
  {
   "cell_type": "markdown",
   "metadata": {},
   "source": [
    "이상 없이 잘 수행된다.\n",
    "\n",
    "위 예제처럼 from game.sound.echo import echo_test와 같이 전체 경로를 이용하여 import할 수도 있지만 다음과 같이 relative하게 import하는 것도 가능하다.\n",
    "\n",
    "> 이 기능은 Python 2.5부터 지원되기 시작하였다."
   ]
  },
  {
   "cell_type": "markdown",
   "metadata": {},
   "source": [
    "```python\n",
    "# render.py\n",
    "from ..sound.echo import echo_test\n",
    "\n",
    "def render_test():\n",
    "    print (\"render\")\n",
    "    echo_test()\n",
    "```"
   ]
  },
  {
   "cell_type": "markdown",
   "metadata": {},
   "source": [
    "from game.sound.echo import echo_test가 from ..sound.echo import echo_test로 변경되었다. 여기서 ..은 부모 디렉터리를 의미한다. graphic과 sound 디렉터리는 동일한 깊이(depth)이므로 부모 디렉터리(..)를 이용하여 위와 같은 import가 가능한 것이다.\n",
    "\n",
    "relative한 접근자에는 다음과 같은 것들이 있다."
   ]
  },
  {
   "cell_type": "markdown",
   "metadata": {},
   "source": [
    "- .. \\– 부모 디렉터리\n",
    "- . \\– 현재 디렉터리"
   ]
  },
  {
   "cell_type": "markdown",
   "metadata": {},
   "source": [
    "..과 같은 relative한 접근자는 render.py와 같이 모듈 안에서만 사용해야 한다. 파이썬 인터프리터에서 relative한 접근자를 사용하면 \"SystemError: cannot perform relative import\"와 같은 오류가 발생한다."
   ]
  },
  {
   "cell_type": "markdown",
   "metadata": {},
   "source": [
    "### <a name=\"exercise2\"></a>연습문제"
   ]
  },
  {
   "cell_type": "markdown",
   "metadata": {},
   "source": [
    "**\\[문제1\\] 패키지 사용 1**\n",
    "\n",
    "다음은 game 패키지의 구조이다."
   ]
  },
  {
   "cell_type": "markdown",
   "metadata": {},
   "source": [
    "```python\n",
    "game/\n",
    "    __init__.py\n",
    "    sound/\n",
    "        __init__.py\n",
    "        echo.py\n",
    "        wav.py\n",
    "    graphic/\n",
    "        __init__.py\n",
    "        screen.py\n",
    "        render.py\n",
    "    play/\n",
    "        __init__.py\n",
    "        run.py\n",
    "        test.py\n",
    "```"
   ]
  },
  {
   "cell_type": "markdown",
   "metadata": {},
   "source": [
    "game 패키지의 echo모듈에 있는 echo_test라는 함수를 이용하려고 한다. 다음 중 잘못된 것 하나를 고르고 그 이유를 설명하시오.\n",
    "\n",
    "(단, 위 패키지 내의 \\_\\_init\\_\\_.py 는 모두 빈 파일이다.)"
   ]
  },
  {
   "cell_type": "markdown",
   "metadata": {},
   "source": [
    "1)"
   ]
  },
  {
   "cell_type": "markdown",
   "metadata": {},
   "source": [
    "```python\n",
    "from game.sound import echo\n",
    "\n",
    "echo.echo_test()\n",
    "```"
   ]
  },
  {
   "cell_type": "markdown",
   "metadata": {},
   "source": [
    "2)"
   ]
  },
  {
   "cell_type": "markdown",
   "metadata": {},
   "source": [
    "```python\n",
    "from game.sound.echo import echo_test\n",
    "\n",
    "echo_test()\n",
    "```"
   ]
  },
  {
   "cell_type": "markdown",
   "metadata": {},
   "source": [
    "3)"
   ]
  },
  {
   "cell_type": "markdown",
   "metadata": {},
   "source": [
    "```python\n",
    "import game\n",
    "\n",
    "game.sound.echo.echo_test()\n",
    "```"
   ]
  },
  {
   "cell_type": "markdown",
   "metadata": {},
   "source": [
    "4)"
   ]
  },
  {
   "cell_type": "markdown",
   "metadata": {},
   "source": [
    "```python\n",
    "import game.sound.echo\n",
    "\n",
    "game.sound.echo.echo_test()\n",
    "```"
   ]
  },
  {
   "cell_type": "markdown",
   "metadata": {},
   "source": [
    "**\\[문제2\\] 패키지 사용2**\n",
    "\n",
    "\\[문제1의 패키지 구조 참조\\]\n",
    "\n",
    "다음은 game/graphic/screen.py 의 내용이다."
   ]
  },
  {
   "cell_type": "markdown",
   "metadata": {},
   "source": [
    "```python\n",
    "# import 가 필요하다.\n",
    "echo_test()\n",
    "```"
   ]
  },
  {
   "cell_type": "markdown",
   "metadata": {},
   "source": [
    "위와 같이 screen.py 파일에서 game/sound/echo.py 모듈의 echo_test라는 함수를 호출하려고 한다. echo_test함수를 사용하기 위해서는 적절한 import 가 필요하다. screen.py 에서 echo_test를 호출할 수 있도록 relative 패키지를 이용하는 import 문을 삽입하여 screen.py를 완성하시오."
   ]
  },
  {
   "cell_type": "markdown",
   "metadata": {},
   "source": [
    "[연습문제 풀이](https://wikidocs.net/17090#05-3)"
   ]
  },
  {
   "cell_type": "code",
   "execution_count": null,
   "metadata": {},
   "outputs": [],
   "source": []
  }
 ],
 "metadata": {
  "kernelspec": {
   "display_name": "Python 3",
   "language": "python",
   "name": "python3"
  },
  "language_info": {
   "codemirror_mode": {
    "name": "ipython",
    "version": 3
   },
   "file_extension": ".py",
   "mimetype": "text/x-python",
   "name": "python",
   "nbconvert_exporter": "python",
   "pygments_lexer": "ipython3",
   "version": "3.6.3"
  }
 },
 "nbformat": 4,
 "nbformat_minor": 2
}
