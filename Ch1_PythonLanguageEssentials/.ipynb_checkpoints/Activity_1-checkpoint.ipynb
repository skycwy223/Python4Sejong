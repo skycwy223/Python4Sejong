{
 "cells": [
  {
   "cell_type": "markdown",
   "metadata": {},
   "source": [
    "## Activity \\#1\n",
    "#### Problem Description\n",
    "초등학생들이 여러 자리 수의 덧셈을 배울 때는 한 번에 한 자리씩 오른쪽에서 왼쪽으로 계산하도록 배운다. 그런데 그 자리 숫자의 합이 10을 넘어갈 때 그 윗자리 숫자에 1을 더해주는 것을 배울 때 많은 학생들이 힘들어한다. 일련의 덧셈 문제가 주어졌을 때 자리를 올리는 횟수를 세어서 선생님들이 학생들을 가르치는 데 도움을 줄 수 있는 프로그램을 만들어야 한다.\n",
    "\n",
    "#### Input:\n",
    ">  각 행에는 열 자리 미만의 부호가 없는 정수가 두 개씩 입력된다. 마지막 줄에는 '0 0'이 입력된다.\n",
    "\n",
    "#### Output:\n",
    ">  마지막 줄을 제외한 각 줄에 대해 주어진 두 수를 더할 때 자리를 올려야 하는 횟수를 계산한 다음, 아래에 주어진 형식대로 결과를 출력한다.\n",
    "\n",
    "#### Sample Input:\n",
    "> 123 456\n",
    "\n",
    "> 555 555\n",
    "\n",
    "> 123 594\n",
    "\n",
    "> 0 0\n",
    "\n",
    "#### Sample output:\n",
    "> No carry operation.\n",
    "\n",
    "> 3 carry operations.\n",
    "\n",
    "> 1 carry operation."
   ]
  },
  {
   "cell_type": "code",
   "execution_count": null,
   "metadata": {
    "collapsed": true
   },
   "outputs": [],
   "source": []
  }
 ],
 "metadata": {
  "kernelspec": {
   "display_name": "Python 3",
   "language": "python",
   "name": "python3"
  },
  "language_info": {
   "codemirror_mode": {
    "name": "ipython",
    "version": 3
   },
   "file_extension": ".py",
   "mimetype": "text/x-python",
   "name": "python",
   "nbconvert_exporter": "python",
   "pygments_lexer": "ipython3",
   "version": "3.6.3"
  }
 },
 "nbformat": 4,
 "nbformat_minor": 2
}
